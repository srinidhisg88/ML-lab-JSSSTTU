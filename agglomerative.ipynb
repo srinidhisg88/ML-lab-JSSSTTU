{
 "cells": [
  {
   "cell_type": "code",
   "execution_count": 9,
   "id": "d6764549-fc5b-4f87-92f5-e8f5a1b70ae9",
   "metadata": {},
   "outputs": [
    {
     "name": "stdout",
     "output_type": "stream",
     "text": [
      "Requirement already satisfied: scipy in /opt/anaconda3/envs/mllab/lib/python3.10/site-packages (1.15.3)\n",
      "Requirement already satisfied: numpy<2.5,>=1.23.5 in /opt/anaconda3/envs/mllab/lib/python3.10/site-packages (from scipy) (2.2.6)\n"
     ]
    }
   ],
   "source": [
    "import pandas as pd\n",
    "import matplotlib.pyplot as plt\n",
    "!pip install scipy\n",
    "import numpy as np"
   ]
  },
  {
   "cell_type": "code",
   "execution_count": 5,
   "id": "3da69322-362b-403a-bff0-093755e74607",
   "metadata": {},
   "outputs": [],
   "source": [
    "from scipy.cluster.hierarchy import linkage,dendrogram"
   ]
  },
  {
   "cell_type": "code",
   "execution_count": 6,
   "id": "dbdfd238-431b-455f-a986-181f95c66221",
   "metadata": {},
   "outputs": [],
   "source": [
    "from sklearn.datasets import load_iris"
   ]
  },
  {
   "cell_type": "code",
   "execution_count": 7,
   "id": "76324ee2-811a-4f59-8e96-18e2d098a5fb",
   "metadata": {},
   "outputs": [],
   "source": [
    "data=load_iris().data[:6]"
   ]
  },
  {
   "cell_type": "code",
   "execution_count": 8,
   "id": "83ee9f67-6640-4c40-b21a-1242cc1c6bb5",
   "metadata": {},
   "outputs": [
    {
     "data": {
      "text/plain": [
       "array([[5.1, 3.5, 1.4, 0.2],\n",
       "       [4.9, 3. , 1.4, 0.2],\n",
       "       [4.7, 3.2, 1.3, 0.2],\n",
       "       [4.6, 3.1, 1.5, 0.2],\n",
       "       [5. , 3.6, 1.4, 0.2],\n",
       "       [5.4, 3.9, 1.7, 0.4]])"
      ]
     },
     "execution_count": 8,
     "metadata": {},
     "output_type": "execute_result"
    }
   ],
   "source": [
    "data\n"
   ]
  },
  {
   "cell_type": "code",
   "execution_count": 27,
   "id": "e0d496fa-63eb-4df3-85de-2e3d0eb02e8c",
   "metadata": {},
   "outputs": [],
   "source": [
    "def plot_dendrogram(data,linkage_type):\n",
    "    n=data.shape[0]\n",
    "    proximity_matrix=np.zeros((n,n))\n",
    "    for i in range(0,n):\n",
    "        for j in range(i+1,n):\n",
    "            proximity_matrix[i,j]=np.linalg.norm(data[i]-data[j])\n",
    "            proximity_matrix[j,i]=proximity_matrix[i,j]\n",
    "    linkage_matrix=linkage(data,method=linkage_type)\n",
    "    print(linkage_matrix)\n",
    "    print(proximity_matrix)\n",
    "    dendrogram(linkage_matrix)"
   ]
  },
  {
   "cell_type": "code",
   "execution_count": 28,
   "id": "a21873bf-455e-45b8-812f-e28b670af3a4",
   "metadata": {},
   "outputs": [
    {
     "name": "stdout",
     "output_type": "stream",
     "text": [
      "[[0.         4.         0.14142136 2.        ]\n",
      " [2.         3.         0.24494897 2.        ]\n",
      " [1.         7.         0.3        3.        ]\n",
      " [6.         8.         0.50990195 5.        ]\n",
      " [5.         9.         0.6164414  6.        ]]\n",
      "[[0.         0.53851648 0.50990195 0.64807407 0.14142136 0.6164414 ]\n",
      " [0.53851648 0.         0.3        0.33166248 0.60827625 1.09087121]\n",
      " [0.50990195 0.3        0.         0.24494897 0.50990195 1.08627805]\n",
      " [0.64807407 0.33166248 0.24494897 0.         0.64807407 1.16619038]\n",
      " [0.14142136 0.60827625 0.50990195 0.64807407 0.         0.6164414 ]\n",
      " [0.6164414  1.09087121 1.08627805 1.16619038 0.6164414  0.        ]]\n"
     ]
    },
    {
     "data": {
      "image/png": "[encoded data removed]",
      "text/plain": [
       "<Figure size 640x480 with 1 Axes>"
      ]
     },
     "metadata": {},
     "output_type": "display_data"
    }
   ],
   "source": [
    "plot_dendrogram(data,'single')"
   ]
  },
  {
   "cell_type": "code",
   "execution_count": 29,
   "id": "b579a5f8-b125-45f5-9294-89d566f36bf5",
   "metadata": {},
   "outputs": [
    {
     "name": "stdout",
     "output_type": "stream",
     "text": [
      "[[0.         4.         0.14142136 2.        ]\n",
      " [2.         3.         0.24494897 2.        ]\n",
      " [1.         7.         0.33166248 3.        ]\n",
      " [5.         6.         0.6164414  3.        ]\n",
      " [8.         9.         1.16619038 6.        ]]\n",
      "[[0.         0.53851648 0.50990195 0.64807407 0.14142136 0.6164414 ]\n",
      " [0.53851648 0.         0.3        0.33166248 0.60827625 1.09087121]\n",
      " [0.50990195 0.3        0.         0.24494897 0.50990195 1.08627805]\n",
      " [0.64807407 0.33166248 0.24494897 0.         0.64807407 1.16619038]\n",
      " [0.14142136 0.60827625 0.50990195 0.64807407 0.         0.6164414 ]\n",
      " [0.6164414  1.09087121 1.08627805 1.16619038 0.6164414  0.        ]]\n"
     ]
    },
    {
     "data": {
      "image/png": "[encoded data removed]",
      "text/plain": [
       "<Figure size 640x480 with 1 Axes>"
      ]
     },
     "metadata": {},
     "output_type": "display_data"
    }
   ],
   "source": [
    "plot_dendrogram(data,'complete')"
   ]
  },
  {
   "cell_type": "code",
   "execution_count": null,
   "id": "fa0379ea-0964-4fb1-b6db-23dc788ab71c",
   "metadata": {},
   "outputs": [],
   "source": []
  }
 ],
 "metadata": {
  "kernelspec": {
   "display_name": "Python 3 (ipykernel)",
   "language": "python",
   "name": "python3"
  },
  "language_info": {
   "codemirror_mode": {
    "name": "ipython",
    "version": 3
   },
   "file_extension": ".py",
   "mimetype": "text/x-python",
   "name": "python",
   "nbconvert_exporter": "python",
   "pygments_lexer": "ipython3",
   "version": "3.10.18"
  }
 },
 "nbformat": 4,
 "nbformat_minor": 5
}
