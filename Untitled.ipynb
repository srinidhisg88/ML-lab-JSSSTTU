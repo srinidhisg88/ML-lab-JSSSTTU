{
 "cells": [
  {
   "cell_type": "code",
   "execution_count": 2,
   "id": "39e0ddf9-b1e4-4574-855a-4f2feb54ca3f",
   "metadata": {},
   "outputs": [],
   "source": [
    "\n",
    "\n",
    "# Enable suggestions (autocomplete)\n",
    "%config Completer.use_jedi = True"
   ]
  },
  {
   "cell_type": "code",
   "execution_count": null,
   "id": "cfde7f8d-6573-4505-a692-6c44d92410b5",
   "metadata": {},
   "outputs": [],
   "source": [
    "import jedi\n"
   ]
  }
 ],
 "metadata": {
  "kernelspec": {
   "display_name": "Python 3 (ipykernel)",
   "language": "python",
   "name": "python3"
  },
  "language_info": {
   "codemirror_mode": {
    "name": "ipython",
    "version": 3
   },
   "file_extension": ".py",
   "mimetype": "text/x-python",
   "name": "python",
   "nbconvert_exporter": "python",
   "pygments_lexer": "ipython3",
   "version": "3.10.18"
  }
 },
 "nbformat": 4,
 "nbformat_minor": 5
}
