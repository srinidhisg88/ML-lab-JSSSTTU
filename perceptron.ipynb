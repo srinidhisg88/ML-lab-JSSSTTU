{
 "cells": [
  {
   "cell_type": "code",
   "execution_count": 1,
   "id": "41e5605e-f04f-422d-81e8-b6d8dcedb502",
   "metadata": {},
   "outputs": [],
   "source": [
    "import numpy as np"
   ]
  },
  {
   "cell_type": "code",
   "execution_count": 2,
   "id": "2fb1bf4a-01f3-4ed0-9893-0ef5b3cfd417",
   "metadata": {},
   "outputs": [],
   "source": [
    "def step_function(X):\n",
    "    return np.where(X>=0,1,0)"
   ]
  },
  {
   "cell_type": "code",
   "execution_count": 36,
   "id": "68de2558-cca2-417f-a715-071fe3a8db57",
   "metadata": {},
   "outputs": [],
   "source": [
    "class Perceptron:\n",
    "    def __init__(self,input_size,learning_rate=0.1,epochs=1000):\n",
    "        self.input_size=input_size\n",
    "        self.learning_rate=learning_rate\n",
    "        self.epochs=epochs\n",
    "        self.weights=np.zeros((input_size,1))\n",
    "        self.bias=0\n",
    "    def train(self,X,y):\n",
    "        for _ in range(self.epochs):\n",
    "            for inputs,labels in zip(X,y):\n",
    "                inputs=inputs.reshape(self.input_size,1)\n",
    "                output=np.dot(self.weights.T,inputs)+self.bias\n",
    "                prediction=step_function(output)\n",
    "                error=labels-prediction\n",
    "                self.weights+=error*self.learning_rate*inputs\n",
    "                self.bias+=error*self.learning_rate\n",
    "    def predict(self,X):\n",
    "        output=np.dot(X,self.weights)+self.bias\n",
    "        return np.where(output>=0,1,0)\n",
    "    \n",
    "                "
   ]
  },
  {
   "cell_type": "code",
   "execution_count": 43,
   "id": "c2e77e9f-402c-4a82-b679-cf283a4b76c0",
   "metadata": {},
   "outputs": [],
   "source": [
    "X_And=np.array([[0,0],[0,1],[1,0],[1,1]])\n",
    "y_and=np.array([[0],[1],[1],[1]])"
   ]
  },
  {
   "cell_type": "code",
   "execution_count": 44,
   "id": "9c26bdaf-9d98-42de-aab6-e8e7ac64c63c",
   "metadata": {},
   "outputs": [],
   "source": [
    "p=Perceptron(2)"
   ]
  },
  {
   "cell_type": "code",
   "execution_count": 45,
   "id": "2ba35be2-692e-4e85-8c0c-028d473140f9",
   "metadata": {},
   "outputs": [],
   "source": [
    "p.train(X_And,y_and)"
   ]
  },
  {
   "cell_type": "code",
   "execution_count": 47,
   "id": "9010293d-cc05-4932-8389-0b38a7019082",
   "metadata": {},
   "outputs": [
    {
     "data": {
      "text/plain": [
       "array([[1]])"
      ]
     },
     "execution_count": 47,
     "metadata": {},
     "output_type": "execute_result"
    }
   ],
   "source": [
    "p.predict([[0,1]])"
   ]
  },
  {
   "cell_type": "code",
   "execution_count": null,
   "id": "2b0a409b-6002-48f3-b2a5-0fdb25d66d8b",
   "metadata": {},
   "outputs": [],
   "source": []
  }
 ],
 "metadata": {
  "kernelspec": {
   "display_name": "Python 3 (ipykernel)",
   "language": "python",
   "name": "python3"
  },
  "language_info": {
   "codemirror_mode": {
    "name": "ipython",
    "version": 3
   },
   "file_extension": ".py",
   "mimetype": "text/x-python",
   "name": "python",
   "nbconvert_exporter": "python",
   "pygments_lexer": "ipython3",
   "version": "3.10.18"
  }
 },
 "nbformat": 4,
 "nbformat_minor": 5
}
